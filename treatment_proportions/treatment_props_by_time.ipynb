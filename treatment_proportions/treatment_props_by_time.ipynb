{
 "cells": [
  {
   "cell_type": "markdown",
   "id": "3589b73a-9fbc-4a7c-bad9-1c1a73e74583",
   "metadata": {},
   "source": [
    "# Proportion of treated patients by stroke type\n",
    "\n",
    "## Code setup"
   ]
  },
  {
   "cell_type": "code",
   "execution_count": 1,
   "id": "93cfd7fe-4618-4375-aeba-2002ae408722",
   "metadata": {},
   "outputs": [],
   "source": [
    "import pandas as pd\n",
    "import numpy as np\n",
    "import matplotlib.pyplot as plt"
   ]
  },
  {
   "cell_type": "markdown",
   "id": "35f1fb40-14ef-4c74-864f-76ac41d32866",
   "metadata": {},
   "source": [
    "## Load data\n",
    "\n",
    "Load the cleaned SSNAP extract data:"
   ]
  },
  {
   "cell_type": "code",
   "execution_count": 2,
   "id": "566ca5f0-37bb-40e3-a455-6b0c2881461f",
   "metadata": {},
   "outputs": [],
   "source": [
    "path_to_ssnap = '~/ssnap_data/clean_samuel_ssnap_extract_v2.csv'\n",
    "df_ssnap = pd.read_csv(path_to_ssnap)"
   ]
  },
  {
   "cell_type": "markdown",
   "id": "34c2856a-a9d3-4bdc-989b-f9c6c0bfae84",
   "metadata": {},
   "source": [
    "Check the available data in the file:"
   ]
  },
  {
   "cell_type": "code",
   "execution_count": 3,
   "id": "d9618a90-a724-4889-b807-7a53ad46db24",
   "metadata": {},
   "outputs": [
    {
     "data": {
      "text/plain": [
       "Index(['id', 'stroke_team', 'age', 'male', 'infarction',\n",
       "       'onset_to_arrival_time', 'onset_known', 'precise_onset_known',\n",
       "       'onset_during_sleep', 'arrive_by_ambulance',\n",
       "       'call_to_ambulance_arrival_time', 'ambulance_on_scene_time',\n",
       "       'ambulance_travel_to_hospital_time', 'ambulance_wait_time_at_hospital',\n",
       "       'month', 'year', 'weekday', 'arrival_time_3_hour_period',\n",
       "       'arrival_to_scan_time', 'thrombolysis', 'scan_to_thrombolysis_time',\n",
       "       'thrombectomy', 'arrival_to_thrombectomy_time',\n",
       "       'congestive_heart_failure', 'hypertension', 'atrial_fibrillation',\n",
       "       'diabetes', 'prior_stroke_tia', 'afib_antiplatelet',\n",
       "       'afib_anticoagulant', 'afib_vit_k_anticoagulant',\n",
       "       'afib_doac_anticoagulant', 'afib_heparin_anticoagulant',\n",
       "       'new_afib_diagnosis', 'prior_disability', 'stroke_severity',\n",
       "       'nihss_complete', 'nihss_arrival_loc', 'nihss_arrival_loc_questions',\n",
       "       'nihss_arrival_loc_commands', 'nihss_arrival_best_gaze',\n",
       "       'nihss_arrival_visual', 'nihss_arrival_facial_palsy',\n",
       "       'nihss_arrival_motor_arm_left', 'nihss_arrival_motor_arm_right',\n",
       "       'nihss_arrival_motor_leg_left', 'nihss_arrival_motor_leg_right',\n",
       "       'nihss_arrival_limb_ataxia', 'nihss_arrival_sensory',\n",
       "       'nihss_arrival_best_language', 'nihss_arrival_dysarthria',\n",
       "       'nihss_arrival_extinction_inattention', 'discharge_destination',\n",
       "       'death', 'discharge_disability', 'disability_6_month',\n",
       "       'thrombolysis_no_not_available', 'thrombolysis_no_out_of_hours',\n",
       "       'thrombolysis_no_scan_not_quick_enough', 'thrombolysis_no_no_reason',\n",
       "       'thrombolysis_no_but_haemorrhagic', 'thrombolysis_no_but_time_window',\n",
       "       'thrombolysis_no_but_comorbidity', 'thrombolysis_no_but_medication',\n",
       "       'thrombolysis_no_but_refusal', 'thrombolysis_no_but_age',\n",
       "       'thrombolysis_no_but_improving', 'thrombolysis_no_but_too_mild_severe',\n",
       "       'thrombolysis_no_but_time_unknown_wake_up',\n",
       "       'thrombolysis_no_but_other_medical'],\n",
       "      dtype='object')"
      ]
     },
     "execution_count": 3,
     "metadata": {},
     "output_type": "execute_result"
    }
   ],
   "source": [
    "df_ssnap.columns"
   ]
  },
  {
   "cell_type": "markdown",
   "id": "52ad1160-38e2-462f-bcc9-8b49f2e9d244",
   "metadata": {},
   "source": [
    "## Functions\n",
    "\n",
    "The following function creates masks to say which patients meet which conditions.\n",
    "\n",
    "Some patients have NIHSS of 10 or below and so would normally be classed as nLVO, but they also are recorded as having received a thrombectomy which should never happen for nLVO patients. So when thrombectomy is given, the patient is always classed as LVO regardless of their NIHSS score."
   ]
  },
  {
   "cell_type": "code",
   "execution_count": 17,
   "id": "40054e47-1ca4-413a-a9bc-f8eed6164e47",
   "metadata": {},
   "outputs": [],
   "source": [
    "def make_masks(df):\n",
    "    # Store masks in here:\n",
    "    df_masks = pd.DataFrame()\n",
    "    \n",
    "    # Stroke type:\n",
    "    df_masks['haemo'] = df['infarction'] == 0\n",
    "    df_masks['lvo'] = (\n",
    "        (\n",
    "            (df['infarction'] == 1) & (df['stroke_severity'] > 10)\n",
    "        ) | (df['thrombectomy'] == 1)\n",
    "    )\n",
    "    df_masks['nlvo'] = (\n",
    "        (\n",
    "            (df['infarction'] == 1) & (df['stroke_severity'] < 11)\n",
    "        ) & (df['thrombectomy'] == 0)\n",
    "    )\n",
    "\n",
    "    # Treatment:\n",
    "    df_masks['no_treatment'] = (df['thrombolysis'] == 0) & (df['thrombectomy'] == 0)\n",
    "    df_masks['mt'] = df['thrombectomy'] == 1\n",
    "    df_masks['ivt'] = df['thrombolysis'] == 1\n",
    "    df_masks['ivt_mt'] = (df_masks['ivt'] & df_masks['mt'])\n",
    "\n",
    "    return df_masks"
   ]
  },
  {
   "cell_type": "markdown",
   "id": "84ad7cba-e47c-4825-8606-9ea3f4284479",
   "metadata": {},
   "source": [
    "The following function finds the proportions of patients who fall into each category. It uses the masks created in the previous function."
   ]
  },
  {
   "cell_type": "code",
   "execution_count": 41,
   "id": "ccf28340-f55d-4dc0-af55-c171be8743e8",
   "metadata": {},
   "outputs": [],
   "source": [
    "def make_props_from_masks(df, df_masks):\n",
    "    # Store numbers of patients in here:\n",
    "    dict_numbers = {}\n",
    "    # Total number of patients:\n",
    "    dict_numbers['total'] = len(df)\n",
    "    # Stroke types:\n",
    "    dict_numbers['haemo'] = len(df[df_masks['haemo']])\n",
    "    dict_numbers['lvo'] = len(df[df_masks['lvo']])\n",
    "    dict_numbers['nlvo'] = len(df[df_masks['nlvo']])\n",
    "    # No treatment:\n",
    "    dict_numbers['no_treatment'] = len(df[df_masks['no_treatment']])\n",
    "    # No treatment split by stroke type:\n",
    "    dict_numbers['haemo_no_treatment'] = len(df[df_masks['haemo'] & df_masks['no_treatment']])\n",
    "    dict_numbers['lvo_no_treatment'] = len(df[df_masks['lvo'] & df_masks['no_treatment']])\n",
    "    dict_numbers['nlvo_no_treatment'] = len(df[df_masks['nlvo'] & df_masks['no_treatment']])\n",
    "    # Treatment:\n",
    "    dict_numbers['mt'] = len(df[df_masks['mt']])\n",
    "    dict_numbers['ivt'] = len(df[df_masks['ivt']])\n",
    "    dict_numbers['ivt_mt'] = len(df[df_masks['ivt_mt']])\n",
    "    # Treatment by stroke type:\n",
    "    dict_numbers['lvo_ivt'] = len(df[df_masks['lvo'] & df_masks['ivt']])\n",
    "    dict_numbers['nlvo_ivt'] = len(df[df_masks['nlvo'] & df_masks['ivt']])\n",
    "    dict_numbers['lvo_ivt_only'] = len(df[df_masks['lvo'] & df_masks['ivt'] & ~df_masks['mt']])\n",
    "    dict_numbers['lvo_mt_only'] = len(df[df_masks['lvo'] & ~df_masks['ivt'] & df_masks['mt']])\n",
    "    dict_numbers['lvo_ivt_mt'] = len(df[df_masks['lvo'] & df_masks['ivt'] & df_masks['mt']])\n",
    "    dict_numbers['nlvo_ivt_only'] = len(df[df_masks['nlvo'] & df_masks['ivt'] & ~df_masks['mt']])\n",
    "    dict_numbers['nlvo_mt_only'] = len(df[df_masks['nlvo'] & ~df_masks['ivt'] & df_masks['mt']])\n",
    "    dict_numbers['nlvo_ivt_mt'] = len(df[df_masks['nlvo'] & df_masks['ivt'] & df_masks['mt']])\n",
    "\n",
    "    # Convert numbers into proportions:\n",
    "    dict_props = {}\n",
    "    for key, val in dict_numbers.items():\n",
    "        dict_props[key] = val / dict_numbers['total']\n",
    "    # Overwrite the total numbers of patients:\n",
    "    dict_props['total'] = dict_numbers['total']\n",
    "\n",
    "    # Add an extra proportion: how many people who received MT also received IVT?\n",
    "    dict_props['mt_also_ivt'] = dict_numbers['ivt_mt'] / dict_numbers['mt']\n",
    "    # Add an extra proportion: how many people who receive IVT have an LVO?\n",
    "    dict_props['ivt_also_lvo'] = dict_numbers['lvo_ivt'] / dict_numbers['ivt']\n",
    "\n",
    "    # Run sanity checks:\n",
    "    sanity_checks(dict_props)\n",
    "    return dict_props"
   ]
  },
  {
   "cell_type": "markdown",
   "id": "3b43e76a-ec24-41e1-ba54-ff66d7e31ee9",
   "metadata": {},
   "source": [
    "The following function checks that the proportions add up as expected."
   ]
  },
  {
   "cell_type": "code",
   "execution_count": 6,
   "id": "fa19a687-3e36-4b1c-b654-0b4e3107d591",
   "metadata": {},
   "outputs": [],
   "source": [
    "def sanity_checks(dict_props):\n",
    "    # Number of decimal places to round to:\n",
    "    d = 5\n",
    "\n",
    "    if round(dict_props['haemo'], d) != round(dict_props['haemo_no_treatment'], 5):\n",
    "        print('!   Haemorrhagic patients receive treatment.')\n",
    "        for key in ['haemo', 'haemo_no_treatment']:\n",
    "            print(f'    {key:20s}: {round(dict_props[key], d+1)}')\n",
    "\n",
    "    p = (\n",
    "        dict_props['lvo_ivt_only'] +\n",
    "        dict_props['lvo_mt_only'] +\n",
    "        dict_props['lvo_ivt_mt'] +\n",
    "        dict_props['lvo_no_treatment']\n",
    "    )\n",
    "    if round(dict_props['lvo'], d) != round(p, d):\n",
    "        print('!   LVO patients don\\'t add up.')\n",
    "        for key in ['lvo', 'lvo_ivt_only', 'lvo_mt_only', 'lvo_ivt_mt', 'lvo_no_treatment']:\n",
    "            print(f'    {key:20s}: {round(dict_props[key], d+1)}')\n",
    "\n",
    "    p = (\n",
    "        dict_props['nlvo_ivt_only'] +\n",
    "        dict_props['nlvo_mt_only'] +\n",
    "        dict_props['nlvo_ivt_mt'] +\n",
    "        dict_props['nlvo_no_treatment']\n",
    "    )\n",
    "    if round(dict_props['nlvo'], d) != round(p, d):\n",
    "        print('!   nLVO patients don\\'t add up.')\n",
    "        for key in ['nlvo', 'nlvo_ivt_only', 'nlvo_mt_only', 'nlvo_ivt_mt', 'nlvo_no_treatment']:\n",
    "            print(f'    {key:20s}: {round(dict_props[key], d+1)}')\n",
    "\n",
    "    p = (\n",
    "        dict_props['nlvo_ivt_only'] +\n",
    "        dict_props['nlvo_ivt_mt'] +\n",
    "        dict_props['lvo_ivt_only'] +\n",
    "        dict_props['lvo_ivt_mt']\n",
    "    )\n",
    "    if round(dict_props['ivt'], d) != round(p, d):\n",
    "        print('!   IVT patients don\\'t add up.')\n",
    "        for key in ['ivt', 'nlvo_ivt_only', 'nlvo_ivt_mt', 'lvo_ivt_only', 'lvo_ivt_mt']:\n",
    "            print(f'    {key:20s}: {round(dict_props[key], d+1)}')\n",
    "\n",
    "    p = (\n",
    "        dict_props['nlvo_mt_only'] +\n",
    "        dict_props['nlvo_ivt_mt'] +\n",
    "        dict_props['lvo_mt_only'] +\n",
    "        dict_props['lvo_ivt_mt']\n",
    "    )\n",
    "    if round(dict_props['mt'], d) != round(p, d):\n",
    "        print('!   MT patients don\\'t add up.')\n",
    "        for key in ['mt', 'nlvo_mt_only', 'nlvo_ivt_mt', 'lvo_mt_only', 'lvo_ivt_mt']:\n",
    "            print(f'    {key:20s}: {round(dict_props[key], d+1)}')\n",
    "\n",
    "    p = (\n",
    "        dict_props['nlvo_no_treatment'] +\n",
    "        dict_props['lvo_no_treatment'] +\n",
    "        dict_props['haemo_no_treatment']\n",
    "    )\n",
    "    if round(dict_props['no_treatment'], d) != round(p, d):\n",
    "        print('!   No treatment patients don\\'t add up.')\n",
    "        for key in ['no_treatment', 'nlvo_no_treatment', 'lvo_no_treatment', 'haemo_no_treatment']:\n",
    "            print(f'    {key:20s}: {round(dict_props[key], d+1)}')\n",
    "\n",
    "    p = (\n",
    "        dict_props['nlvo_ivt_only'] +\n",
    "        dict_props['nlvo_mt_only'] +\n",
    "        dict_props['nlvo_ivt_mt'] +\n",
    "        dict_props['nlvo_no_treatment'] +\n",
    "        dict_props['lvo_ivt_only'] +\n",
    "        dict_props['lvo_mt_only'] +\n",
    "        dict_props['lvo_ivt_mt'] +\n",
    "        dict_props['lvo_no_treatment'] +\n",
    "        dict_props['haemo_no_treatment']        \n",
    "    )\n",
    "    if round(1.0, d) != round(p, d):\n",
    "        print('!   Total patients don\\'t add up.')\n",
    "        for key in ['nlvo_ivt_only', 'nlvo_mt_only', 'nlvo_ivt_mt', 'nlvo_no_treatment', 'lvo_ivt_only', 'lvo_mt_only', 'lvo_ivt_mt', 'lvo_no_treatment', 'haemo_no_treatment']:\n",
    "            print(f'    {key:20s}: {round(dict_props[key], d+1)}')"
   ]
  },
  {
   "cell_type": "markdown",
   "id": "c116629c-a71e-4e40-b6f0-2ffda6e3d6c7",
   "metadata": {},
   "source": [
    "## Results\n",
    "\n",
    "Example for the full SSNAP data:"
   ]
  },
  {
   "cell_type": "code",
   "execution_count": 42,
   "id": "2966da90-8683-40e3-b22d-b18d1139f837",
   "metadata": {},
   "outputs": [],
   "source": [
    "dict_props_full = make_props_from_masks(df_ssnap, make_masks(df_ssnap))"
   ]
  },
  {
   "cell_type": "code",
   "execution_count": 43,
   "id": "be9fc983-d078-4ddb-99c2-3c1e2ac823e9",
   "metadata": {},
   "outputs": [
    {
     "data": {
      "text/plain": [
       "total                 358993.000000\n",
       "haemo                      0.122153\n",
       "lvo                        0.179432\n",
       "nlvo                       0.698415\n",
       "no_treatment               0.880457\n",
       "haemo_no_treatment         0.122153\n",
       "lvo_no_treatment           0.123665\n",
       "nlvo_no_treatment          0.634639\n",
       "mt                         0.012098\n",
       "ivt                        0.114662\n",
       "ivt_mt                     0.007217\n",
       "lvo_ivt                    0.050887\n",
       "nlvo_ivt                   0.063776\n",
       "lvo_ivt_only               0.043669\n",
       "lvo_mt_only                0.004880\n",
       "lvo_ivt_mt                 0.007217\n",
       "nlvo_ivt_only              0.063776\n",
       "nlvo_mt_only               0.000000\n",
       "nlvo_ivt_mt                0.000000\n",
       "mt_also_ivt                0.596592\n",
       "ivt_also_lvo               0.443797\n",
       "dtype: float64"
      ]
     },
     "execution_count": 43,
     "metadata": {},
     "output_type": "execute_result"
    }
   ],
   "source": [
    "# Convert to Series for neater printing:\n",
    "pd.Series(dict_props_full)"
   ]
  },
  {
   "cell_type": "markdown",
   "id": "4043e828-5396-4238-ab36-9a60a683064b",
   "metadata": {},
   "source": [
    "Calculate the proportions separately for various onset-to-arrival time cutoffs."
   ]
  },
  {
   "cell_type": "code",
   "execution_count": 81,
   "id": "9eef13a9-7c13-4d9b-8e57-14150f73478b",
   "metadata": {},
   "outputs": [],
   "source": [
    "dict_props_by_time = {}\n",
    "\n",
    "for time in np.arange(1.0, 25.0, 1.0):\n",
    "    df_here = df_ssnap[df_ssnap['onset_to_arrival_time'] < time * 60.0].copy().reset_index()\n",
    "    dict_props_here = make_props_from_masks(df_here, make_masks(df_here))\n",
    "    dict_props_by_time[f'{time:.0f}'] = dict_props_here\n",
    "\n",
    "# Also store the full results:\n",
    "dict_props_by_time['inf'] = dict_props_full\n",
    "\n",
    "df_props_by_time = pd.DataFrame(dict_props_by_time).T\n",
    "df_props_by_time.index.name = 'expected_onset_to_arrival_time'\n",
    "# Round values to 5 d.p. (should be plenty):\n",
    "df_props_by_time = np.round(df_props_by_time, 5)"
   ]
  },
  {
   "cell_type": "code",
   "execution_count": 82,
   "id": "aac60749-d1df-4d4b-b82b-f6fd3a8c0c97",
   "metadata": {},
   "outputs": [
    {
     "data": {
      "text/html": [
       "<div>\n",
       "<style scoped>\n",
       "    .dataframe tbody tr th:only-of-type {\n",
       "        vertical-align: middle;\n",
       "    }\n",
       "\n",
       "    .dataframe tbody tr th {\n",
       "        vertical-align: top;\n",
       "    }\n",
       "\n",
       "    .dataframe thead th {\n",
       "        text-align: right;\n",
       "    }\n",
       "</style>\n",
       "<table border=\"1\" class=\"dataframe\">\n",
       "  <thead>\n",
       "    <tr style=\"text-align: right;\">\n",
       "      <th>expected_onset_to_arrival_time</th>\n",
       "      <th>1</th>\n",
       "      <th>2</th>\n",
       "      <th>3</th>\n",
       "    </tr>\n",
       "  </thead>\n",
       "  <tbody>\n",
       "    <tr>\n",
       "      <th>total</th>\n",
       "      <td>18826.00000</td>\n",
       "      <td>82627.00000</td>\n",
       "      <td>117084.00000</td>\n",
       "    </tr>\n",
       "    <tr>\n",
       "      <th>haemo</th>\n",
       "      <td>0.15208</td>\n",
       "      <td>0.15241</td>\n",
       "      <td>0.14896</td>\n",
       "    </tr>\n",
       "    <tr>\n",
       "      <th>lvo</th>\n",
       "      <td>0.31972</td>\n",
       "      <td>0.28677</td>\n",
       "      <td>0.26338</td>\n",
       "    </tr>\n",
       "    <tr>\n",
       "      <th>nlvo</th>\n",
       "      <td>0.52821</td>\n",
       "      <td>0.56082</td>\n",
       "      <td>0.58766</td>\n",
       "    </tr>\n",
       "    <tr>\n",
       "      <th>no_treatment</th>\n",
       "      <td>0.59652</td>\n",
       "      <td>0.64456</td>\n",
       "      <td>0.67588</td>\n",
       "    </tr>\n",
       "    <tr>\n",
       "      <th>haemo_no_treatment</th>\n",
       "      <td>0.15208</td>\n",
       "      <td>0.15241</td>\n",
       "      <td>0.14896</td>\n",
       "    </tr>\n",
       "    <tr>\n",
       "      <th>lvo_no_treatment</th>\n",
       "      <td>0.10900</td>\n",
       "      <td>0.11536</td>\n",
       "      <td>0.11378</td>\n",
       "    </tr>\n",
       "    <tr>\n",
       "      <th>nlvo_no_treatment</th>\n",
       "      <td>0.33544</td>\n",
       "      <td>0.37679</td>\n",
       "      <td>0.41314</td>\n",
       "    </tr>\n",
       "    <tr>\n",
       "      <th>mt</th>\n",
       "      <td>0.03984</td>\n",
       "      <td>0.03135</td>\n",
       "      <td>0.02719</td>\n",
       "    </tr>\n",
       "    <tr>\n",
       "      <th>ivt</th>\n",
       "      <td>0.39307</td>\n",
       "      <td>0.34753</td>\n",
       "      <td>0.31684</td>\n",
       "    </tr>\n",
       "    <tr>\n",
       "      <th>ivt_mt</th>\n",
       "      <td>0.02943</td>\n",
       "      <td>0.02343</td>\n",
       "      <td>0.01991</td>\n",
       "    </tr>\n",
       "    <tr>\n",
       "      <th>lvo_ivt</th>\n",
       "      <td>0.20031</td>\n",
       "      <td>0.16349</td>\n",
       "      <td>0.14232</td>\n",
       "    </tr>\n",
       "    <tr>\n",
       "      <th>nlvo_ivt</th>\n",
       "      <td>0.19277</td>\n",
       "      <td>0.18403</td>\n",
       "      <td>0.17452</td>\n",
       "    </tr>\n",
       "    <tr>\n",
       "      <th>lvo_ivt_only</th>\n",
       "      <td>0.17088</td>\n",
       "      <td>0.14006</td>\n",
       "      <td>0.12241</td>\n",
       "    </tr>\n",
       "    <tr>\n",
       "      <th>lvo_mt_only</th>\n",
       "      <td>0.01041</td>\n",
       "      <td>0.00792</td>\n",
       "      <td>0.00728</td>\n",
       "    </tr>\n",
       "    <tr>\n",
       "      <th>lvo_ivt_mt</th>\n",
       "      <td>0.02943</td>\n",
       "      <td>0.02343</td>\n",
       "      <td>0.01991</td>\n",
       "    </tr>\n",
       "    <tr>\n",
       "      <th>nlvo_ivt_only</th>\n",
       "      <td>0.19277</td>\n",
       "      <td>0.18403</td>\n",
       "      <td>0.17452</td>\n",
       "    </tr>\n",
       "    <tr>\n",
       "      <th>nlvo_mt_only</th>\n",
       "      <td>0.00000</td>\n",
       "      <td>0.00000</td>\n",
       "      <td>0.00000</td>\n",
       "    </tr>\n",
       "    <tr>\n",
       "      <th>nlvo_ivt_mt</th>\n",
       "      <td>0.00000</td>\n",
       "      <td>0.00000</td>\n",
       "      <td>0.00000</td>\n",
       "    </tr>\n",
       "    <tr>\n",
       "      <th>mt_also_ivt</th>\n",
       "      <td>0.73867</td>\n",
       "      <td>0.74749</td>\n",
       "      <td>0.73233</td>\n",
       "    </tr>\n",
       "    <tr>\n",
       "      <th>ivt_also_lvo</th>\n",
       "      <td>0.50959</td>\n",
       "      <td>0.47045</td>\n",
       "      <td>0.44917</td>\n",
       "    </tr>\n",
       "  </tbody>\n",
       "</table>\n",
       "</div>"
      ],
      "text/plain": [
       "expected_onset_to_arrival_time            1            2             3\n",
       "total                           18826.00000  82627.00000  117084.00000\n",
       "haemo                               0.15208      0.15241       0.14896\n",
       "lvo                                 0.31972      0.28677       0.26338\n",
       "nlvo                                0.52821      0.56082       0.58766\n",
       "no_treatment                        0.59652      0.64456       0.67588\n",
       "haemo_no_treatment                  0.15208      0.15241       0.14896\n",
       "lvo_no_treatment                    0.10900      0.11536       0.11378\n",
       "nlvo_no_treatment                   0.33544      0.37679       0.41314\n",
       "mt                                  0.03984      0.03135       0.02719\n",
       "ivt                                 0.39307      0.34753       0.31684\n",
       "ivt_mt                              0.02943      0.02343       0.01991\n",
       "lvo_ivt                             0.20031      0.16349       0.14232\n",
       "nlvo_ivt                            0.19277      0.18403       0.17452\n",
       "lvo_ivt_only                        0.17088      0.14006       0.12241\n",
       "lvo_mt_only                         0.01041      0.00792       0.00728\n",
       "lvo_ivt_mt                          0.02943      0.02343       0.01991\n",
       "nlvo_ivt_only                       0.19277      0.18403       0.17452\n",
       "nlvo_mt_only                        0.00000      0.00000       0.00000\n",
       "nlvo_ivt_mt                         0.00000      0.00000       0.00000\n",
       "mt_also_ivt                         0.73867      0.74749       0.73233\n",
       "ivt_also_lvo                        0.50959      0.47045       0.44917"
      ]
     },
     "execution_count": 82,
     "metadata": {},
     "output_type": "execute_result"
    }
   ],
   "source": [
    "df_props_by_time.head(3).T"
   ]
  },
  {
   "cell_type": "code",
   "execution_count": 83,
   "id": "b7374fe7",
   "metadata": {},
   "outputs": [
    {
     "data": {
      "text/html": [
       "<div>\n",
       "<style scoped>\n",
       "    .dataframe tbody tr th:only-of-type {\n",
       "        vertical-align: middle;\n",
       "    }\n",
       "\n",
       "    .dataframe tbody tr th {\n",
       "        vertical-align: top;\n",
       "    }\n",
       "\n",
       "    .dataframe thead th {\n",
       "        text-align: right;\n",
       "    }\n",
       "</style>\n",
       "<table border=\"1\" class=\"dataframe\">\n",
       "  <thead>\n",
       "    <tr style=\"text-align: right;\">\n",
       "      <th>expected_onset_to_arrival_time</th>\n",
       "      <th>23</th>\n",
       "      <th>24</th>\n",
       "      <th>inf</th>\n",
       "    </tr>\n",
       "  </thead>\n",
       "  <tbody>\n",
       "    <tr>\n",
       "      <th>total</th>\n",
       "      <td>214667.00000</td>\n",
       "      <td>216225.00000</td>\n",
       "      <td>358993.00000</td>\n",
       "    </tr>\n",
       "    <tr>\n",
       "      <th>haemo</th>\n",
       "      <td>0.12934</td>\n",
       "      <td>0.12893</td>\n",
       "      <td>0.12215</td>\n",
       "    </tr>\n",
       "    <tr>\n",
       "      <th>lvo</th>\n",
       "      <td>0.21052</td>\n",
       "      <td>0.20949</td>\n",
       "      <td>0.17943</td>\n",
       "    </tr>\n",
       "    <tr>\n",
       "      <th>nlvo</th>\n",
       "      <td>0.66015</td>\n",
       "      <td>0.66159</td>\n",
       "      <td>0.69841</td>\n",
       "    </tr>\n",
       "    <tr>\n",
       "      <th>no_treatment</th>\n",
       "      <td>0.80434</td>\n",
       "      <td>0.80575</td>\n",
       "      <td>0.88046</td>\n",
       "    </tr>\n",
       "    <tr>\n",
       "      <th>haemo_no_treatment</th>\n",
       "      <td>0.12934</td>\n",
       "      <td>0.12893</td>\n",
       "      <td>0.12215</td>\n",
       "    </tr>\n",
       "    <tr>\n",
       "      <th>lvo_no_treatment</th>\n",
       "      <td>0.12023</td>\n",
       "      <td>0.11985</td>\n",
       "      <td>0.12367</td>\n",
       "    </tr>\n",
       "    <tr>\n",
       "      <th>nlvo_no_treatment</th>\n",
       "      <td>0.55477</td>\n",
       "      <td>0.55697</td>\n",
       "      <td>0.63464</td>\n",
       "    </tr>\n",
       "    <tr>\n",
       "      <th>mt</th>\n",
       "      <td>0.01844</td>\n",
       "      <td>0.01831</td>\n",
       "      <td>0.01210</td>\n",
       "    </tr>\n",
       "    <tr>\n",
       "      <th>ivt</th>\n",
       "      <td>0.18905</td>\n",
       "      <td>0.18769</td>\n",
       "      <td>0.11466</td>\n",
       "    </tr>\n",
       "    <tr>\n",
       "      <th>ivt_mt</th>\n",
       "      <td>0.01183</td>\n",
       "      <td>0.01175</td>\n",
       "      <td>0.00722</td>\n",
       "    </tr>\n",
       "    <tr>\n",
       "      <th>lvo_ivt</th>\n",
       "      <td>0.08367</td>\n",
       "      <td>0.08307</td>\n",
       "      <td>0.05089</td>\n",
       "    </tr>\n",
       "    <tr>\n",
       "      <th>nlvo_ivt</th>\n",
       "      <td>0.10538</td>\n",
       "      <td>0.10462</td>\n",
       "      <td>0.06378</td>\n",
       "    </tr>\n",
       "    <tr>\n",
       "      <th>lvo_ivt_only</th>\n",
       "      <td>0.07184</td>\n",
       "      <td>0.07132</td>\n",
       "      <td>0.04367</td>\n",
       "    </tr>\n",
       "    <tr>\n",
       "      <th>lvo_mt_only</th>\n",
       "      <td>0.00661</td>\n",
       "      <td>0.00656</td>\n",
       "      <td>0.00488</td>\n",
       "    </tr>\n",
       "    <tr>\n",
       "      <th>lvo_ivt_mt</th>\n",
       "      <td>0.01183</td>\n",
       "      <td>0.01175</td>\n",
       "      <td>0.00722</td>\n",
       "    </tr>\n",
       "    <tr>\n",
       "      <th>nlvo_ivt_only</th>\n",
       "      <td>0.10538</td>\n",
       "      <td>0.10462</td>\n",
       "      <td>0.06378</td>\n",
       "    </tr>\n",
       "    <tr>\n",
       "      <th>nlvo_mt_only</th>\n",
       "      <td>0.00000</td>\n",
       "      <td>0.00000</td>\n",
       "      <td>0.00000</td>\n",
       "    </tr>\n",
       "    <tr>\n",
       "      <th>nlvo_ivt_mt</th>\n",
       "      <td>0.00000</td>\n",
       "      <td>0.00000</td>\n",
       "      <td>0.00000</td>\n",
       "    </tr>\n",
       "    <tr>\n",
       "      <th>mt_also_ivt</th>\n",
       "      <td>0.64158</td>\n",
       "      <td>0.64158</td>\n",
       "      <td>0.59659</td>\n",
       "    </tr>\n",
       "    <tr>\n",
       "      <th>ivt_also_lvo</th>\n",
       "      <td>0.44260</td>\n",
       "      <td>0.44260</td>\n",
       "      <td>0.44380</td>\n",
       "    </tr>\n",
       "  </tbody>\n",
       "</table>\n",
       "</div>"
      ],
      "text/plain": [
       "expected_onset_to_arrival_time            23            24           inf\n",
       "total                           214667.00000  216225.00000  358993.00000\n",
       "haemo                                0.12934       0.12893       0.12215\n",
       "lvo                                  0.21052       0.20949       0.17943\n",
       "nlvo                                 0.66015       0.66159       0.69841\n",
       "no_treatment                         0.80434       0.80575       0.88046\n",
       "haemo_no_treatment                   0.12934       0.12893       0.12215\n",
       "lvo_no_treatment                     0.12023       0.11985       0.12367\n",
       "nlvo_no_treatment                    0.55477       0.55697       0.63464\n",
       "mt                                   0.01844       0.01831       0.01210\n",
       "ivt                                  0.18905       0.18769       0.11466\n",
       "ivt_mt                               0.01183       0.01175       0.00722\n",
       "lvo_ivt                              0.08367       0.08307       0.05089\n",
       "nlvo_ivt                             0.10538       0.10462       0.06378\n",
       "lvo_ivt_only                         0.07184       0.07132       0.04367\n",
       "lvo_mt_only                          0.00661       0.00656       0.00488\n",
       "lvo_ivt_mt                           0.01183       0.01175       0.00722\n",
       "nlvo_ivt_only                        0.10538       0.10462       0.06378\n",
       "nlvo_mt_only                         0.00000       0.00000       0.00000\n",
       "nlvo_ivt_mt                          0.00000       0.00000       0.00000\n",
       "mt_also_ivt                          0.64158       0.64158       0.59659\n",
       "ivt_also_lvo                         0.44260       0.44260       0.44380"
      ]
     },
     "execution_count": 83,
     "metadata": {},
     "output_type": "execute_result"
    }
   ],
   "source": [
    "df_props_by_time.tail(3).T"
   ]
  },
  {
   "cell_type": "markdown",
   "id": "713aa1d4-0815-4976-9fce-38af0b5b8388",
   "metadata": {},
   "source": [
    "## Save results"
   ]
  },
  {
   "cell_type": "code",
   "execution_count": 84,
   "id": "a452bcc5-df85-4e0e-85a8-e51450eb46d8",
   "metadata": {},
   "outputs": [],
   "source": [
    "df_props_by_time.to_csv('treatment_proportions_by_arrival_time.csv')"
   ]
  },
  {
   "cell_type": "markdown",
   "id": "74cee4e1-d8bf-4a7a-9930-1e5306a79f1a",
   "metadata": {},
   "source": [
    "## Quick plots\n",
    "\n",
    "### Treated patients"
   ]
  },
  {
   "cell_type": "code",
   "execution_count": 74,
   "id": "f5aa079e-abf2-4fd6-901d-03a0a2ebb63c",
   "metadata": {},
   "outputs": [
    {
     "data": {
      "image/png": "[encoded data removed]",
      "text/plain": [
       "<Figure size 640x480 with 1 Axes>"
      ]
     },
     "metadata": {},
     "output_type": "display_data"
    }
   ],
   "source": [
    "fig, ax = plt.subplots()\n",
    "\n",
    "bottoms = np.full(len(df_props_by_time), 0.0)\n",
    "for c, col in enumerate(['ivt', 'ivt_mt', 'mt']):\n",
    "    heights = df_props_by_time[col].copy()\n",
    "    if col == 'ivt_mt':\n",
    "        bottoms -= df_props_by_time['ivt_mt'].copy()\n",
    "    elif col == 'mt':\n",
    "        heights -= df_props_by_time['ivt_mt']\n",
    "    ax.bar(x=df_props_by_time.index, height=heights, bottom=bottoms, label=col)\n",
    "    bottoms += heights\n",
    "\n",
    "ax.set_ylim(0, 1.01)\n",
    "ax.legend()\n",
    "ax.set_xlabel('Maximum onset-to-arrival time (hours)')\n",
    "ax.set_ylabel('Proportion of patients')\n",
    "ax.set_title('Patients receiving treatment')\n",
    "\n",
    "plt.show()"
   ]
  },
  {
   "cell_type": "markdown",
   "id": "344e53a0-4b2a-4cda-9ba4-d13da7afa0af",
   "metadata": {},
   "source": [
    "### Thrombolysed patients"
   ]
  },
  {
   "cell_type": "code",
   "execution_count": 76,
   "id": "56db57de",
   "metadata": {},
   "outputs": [
    {
     "data": {
      "image/png": "[encoded data removed]",
      "text/plain": [
       "<Figure size 640x480 with 1 Axes>"
      ]
     },
     "metadata": {},
     "output_type": "display_data"
    }
   ],
   "source": [
    "fig, ax = plt.subplots()\n",
    "\n",
    "bottoms = np.full(len(df_props_by_time), 0.0)\n",
    "for c, col in enumerate(['lvo_ivt', 'nlvo_ivt']):\n",
    "    ax.bar(x=df_props_by_time.index, height=df_props_by_time[col], bottom=bottoms, label=col)\n",
    "    bottoms += df_props_by_time[col]\n",
    "\n",
    "ax.plot(\n",
    "    df_props_by_time.index,\n",
    "    df_props_by_time['ivt_also_lvo'],\n",
    "    label='Proportion of patients given IVT who had LVO',\n",
    "    color='k'\n",
    ")\n",
    "\n",
    "# ax.set_ylim(0, 1)\n",
    "ax.legend(bbox_to_anchor=[1.0, 1.0], loc='upper left')\n",
    "ax.set_xlabel('Maximum onset-to-arrival time (hours)')\n",
    "ax.set_ylabel('Proportion of patients')\n",
    "ax.set_title('Patients receiving thrombolysis')\n",
    "\n",
    "plt.show()"
   ]
  },
  {
   "cell_type": "markdown",
   "id": "9511fe29-a8a0-449d-96fa-5f88c3cffca1",
   "metadata": {},
   "source": [
    "I expect the line plateaus after around 4 hours because no more patients (in absolute numbers) receive thrombolysis after that point. The bars keep decreasing in size because more patients (in absolute numbers) join the subgroup but none of them receive IVT.\n",
    "\n",
    "Check the values in the line:"
   ]
  },
  {
   "cell_type": "code",
   "execution_count": 78,
   "id": "e75c1a49-add7-49b2-8a1e-83bfcd44a8d4",
   "metadata": {},
   "outputs": [
    {
     "data": {
      "text/plain": [
       "expected_onset_to_arrival_time\n",
       "1      0.509595\n",
       "2      0.470451\n",
       "3      0.449174\n",
       "4      0.442766\n",
       "5      0.442731\n",
       "6      0.442586\n",
       "7      0.442475\n",
       "8      0.442534\n",
       "9      0.442510\n",
       "10     0.442535\n",
       "11     0.442572\n",
       "12     0.442599\n",
       "13     0.442599\n",
       "14     0.442599\n",
       "15     0.442599\n",
       "16     0.442599\n",
       "17     0.442599\n",
       "18     0.442599\n",
       "19     0.442599\n",
       "20     0.442599\n",
       "21     0.442599\n",
       "22     0.442599\n",
       "23     0.442599\n",
       "24     0.442599\n",
       "inf    0.443797\n",
       "Name: ivt_also_lvo, dtype: float64"
      ]
     },
     "execution_count": 78,
     "metadata": {},
     "output_type": "execute_result"
    }
   ],
   "source": [
    "df_props_by_time['ivt_also_lvo']"
   ]
  },
  {
   "cell_type": "markdown",
   "id": "4c77f616-fcc6-4e8f-a91a-1dee527a9a12",
   "metadata": {},
   "source": [
    "The value holds steady at 44.3%."
   ]
  },
  {
   "cell_type": "markdown",
   "id": "69f843f6-fc72-45d1-b5b7-53e775e05e6c",
   "metadata": {},
   "source": [
    "### Thrombectomised patients"
   ]
  },
  {
   "cell_type": "code",
   "execution_count": 80,
   "id": "235b0158-d18a-463a-a504-ebd08a2d5eb1",
   "metadata": {},
   "outputs": [
    {
     "data": {
      "image/png": "[encoded data removed]",
      "text/plain": [
       "<Figure size 640x480 with 1 Axes>"
      ]
     },
     "metadata": {},
     "output_type": "display_data"
    }
   ],
   "source": [
    "fig, ax = plt.subplots()\n",
    "\n",
    "bottoms = np.full(len(df_props_by_time), 0.0)\n",
    "for c, col in enumerate(['mt']):\n",
    "    ax.bar(x=df_props_by_time.index, height=df_props_by_time[col], bottom=bottoms, label=col)\n",
    "    bottoms += df_props_by_time[col]\n",
    "\n",
    "ax.plot(\n",
    "    df_props_by_time.index,\n",
    "    df_props_by_time['mt_also_ivt'],\n",
    "    label='Proportion of patients given MT who had IVT',\n",
    "    color='k'\n",
    ")\n",
    "\n",
    "# ax.set_ylim(0, 1)\n",
    "ax.legend(bbox_to_anchor=[1.0, 1.0], loc='upper left')\n",
    "ax.set_xlabel('Maximum onset-to-arrival time (hours)')\n",
    "ax.set_ylabel('Proportion of patients')\n",
    "ax.set_title('Patients receiving thrombectomy')\n",
    "\n",
    "plt.show()"
   ]
  },
  {
   "cell_type": "markdown",
   "id": "527a4b84-63a8-4fe0-b430-3fd639608c85",
   "metadata": {},
   "source": [
    "The line here takes longer to plateau, not reaching a steady value within the first 12 hours after stroke onset.\n",
    "\n",
    "Check the values in the line:"
   ]
  },
  {
   "cell_type": "code",
   "execution_count": 79,
   "id": "6e36959a-338b-4be5-8da1-b96ceab89e11",
   "metadata": {},
   "outputs": [
    {
     "data": {
      "text/plain": [
       "expected_onset_to_arrival_time\n",
       "1      0.738667\n",
       "2      0.747490\n",
       "3      0.732328\n",
       "4      0.711258\n",
       "5      0.689126\n",
       "6      0.679473\n",
       "7      0.671792\n",
       "8      0.666930\n",
       "9      0.663613\n",
       "10     0.658448\n",
       "11     0.655564\n",
       "12     0.652286\n",
       "13     0.650115\n",
       "14     0.647629\n",
       "15     0.645817\n",
       "16     0.644670\n",
       "17     0.644180\n",
       "18     0.643201\n",
       "19     0.642713\n",
       "20     0.642225\n",
       "21     0.641738\n",
       "22     0.641738\n",
       "23     0.641576\n",
       "24     0.641576\n",
       "inf    0.596592\n",
       "Name: mt_also_ivt, dtype: float64"
      ]
     },
     "execution_count": 79,
     "metadata": {},
     "output_type": "execute_result"
    }
   ],
   "source": [
    "df_props_by_time['mt_also_ivt']"
   ]
  },
  {
   "cell_type": "markdown",
   "id": "ce6860a8-302b-45f4-a3ec-f6ca74dc874b",
   "metadata": {},
   "source": [
    "The value falls towards 64.2%."
   ]
  },
  {
   "cell_type": "markdown",
   "id": "639c0acf-c1ae-49df-9b22-b638d4e6506d",
   "metadata": {},
   "source": [
    "## Conclusion\n",
    "\n",
    "We have saved a copy of the patient proportions at various onset-to-arrival cutoff times.\n",
    "\n",
    "Some useful values for future use:\n",
    "\n",
    "| Property | Value at 6hr | Value at 24hr | Recommended value to use |\n",
    "| --- | --- | --- | --- |\n",
    "| Proportion of patients with IVT who had LVO | 0.44259 | 0.44260 | 44.3% |\n",
    "| Proportion of patients with MT who also had IVT | 0.67947 | 0.64158 | 64.2% |"
   ]
  },
  {
   "cell_type": "code",
   "execution_count": null,
   "id": "4ac9c9d5-3a2d-4df6-920d-b457ad53e0f5",
   "metadata": {},
   "outputs": [],
   "source": []
  }
 ],
 "metadata": {
  "kernelspec": {
   "display_name": "Python 3 (ipykernel)",
   "language": "python",
   "name": "python3"
  },
  "language_info": {
   "codemirror_mode": {
    "name": "ipython",
    "version": 3
   },
   "file_extension": ".py",
   "mimetype": "text/x-python",
   "name": "python",
   "nbconvert_exporter": "python",
   "pygments_lexer": "ipython3",
   "version": "3.9.16"
  }
 },
 "nbformat": 4,
 "nbformat_minor": 5
}
